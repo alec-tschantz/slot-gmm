{
 "cells": [
  {
   "cell_type": "code",
   "execution_count": 1,
   "metadata": {},
   "outputs": [],
   "source": [
    "import warnings \n",
    "\n",
    "warnings.filterwarnings('ignore')\n",
    "\n",
    "import torch\n",
    "from torch import nn, optim\n",
    "from torch.utils.data import DataLoader\n",
    "\n",
    "from matplotlib import pyplot as plt\n",
    "\n",
    "from models import Model\n",
    "from dataset import H5Dataset"
   ]
  },
  {
   "cell_type": "code",
   "execution_count": 2,
   "metadata": {},
   "outputs": [],
   "source": [
    "data = H5Dataset(\"data/tetrominoes.h5\")\n",
    "train_loader = DataLoader(data, batch_size=32, shuffle=True)\n",
    "\n",
    "resolution = (35, 35)\n",
    "num_slots, num_iterations, hidden_dim = 4, 4, 32\n",
    "model = Model(resolution, num_slots, num_iterations, hidden_dim)\n",
    "\n",
    "criterion = nn.MSELoss()\n",
    "optimizer = torch.optim.Adam(model.parameters(), lr=1e-3)"
   ]
  },
  {
   "cell_type": "code",
   "execution_count": 3,
   "metadata": {},
   "outputs": [],
   "source": [
    "def test(model, train_loader):\n",
    "    model.eval()\n",
    "    renormalize = lambda x: (x + 1) / 2\n",
    "    with torch.no_grad():\n",
    "        image = next(iter(train_loader))[\"image\"][0]\n",
    "        image = image.unsqueeze(0)\n",
    "        recon_combined, recons, masks, slots = model(image)\n",
    "\n",
    "        fig, ax = plt.subplots(1, num_slots + 2, figsize=(10, 2))\n",
    "        image = image.squeeze(0)\n",
    "        recon_combined = recon_combined.squeeze(0)\n",
    "        recons = recons.squeeze(0)\n",
    "        masks = masks.squeeze(0)\n",
    "        image = image.permute(1, 2, 0).numpy()\n",
    "\n",
    "        recon_combined = recon_combined.permute(1, 2, 0)\n",
    "        recon_combined = recon_combined.detach().numpy()\n",
    "\n",
    "        image = renormalize(image)\n",
    "        recon_combined = renormalize(recon_combined)\n",
    "        ax[0].imshow(image)\n",
    "        ax[1].imshow(recon_combined)\n",
    "        for i in range(num_slots):\n",
    "            picture = recons[i] * masks[i] + (1 - masks[i])\n",
    "            picture = picture.permute(1, 2, 0).detach().numpy()\n",
    "            picture = renormalize(picture)\n",
    "            ax[i + 2].imshow(picture)\n",
    "        for i in range(len(ax)):\n",
    "            ax[i].grid(False)\n",
    "            ax[i].axis(\"off\")\n",
    "\n",
    "        plt.show()"
   ]
  },
  {
   "cell_type": "code",
   "execution_count": null,
   "metadata": {},
   "outputs": [],
   "source": [
    "num_epochs = 100\n",
    "\n",
    "for epoch in range(num_epochs):\n",
    "    model.train()\n",
    "\n",
    "    total_loss = 0\n",
    "    for idx, sample in enumerate(train_loader):        \n",
    "        image = sample['image']\n",
    "        recon_combined, recons, masks, slots = model(image)\n",
    "        loss = criterion(recon_combined, image)\n",
    "        total_loss = total_loss + loss.item()\n",
    "\n",
    "        optimizer.zero_grad()\n",
    "        loss.backward()\n",
    "        optimizer.step()\n",
    "\n",
    "        if idx % 500 == 0:\n",
    "            test(model, train_loader)\n",
    "\n",
    "    total_loss /= len(train_loader)\n",
    "    print (f\"epoch {epoch}: {total_loss:.3f}\")"
   ]
  }
 ],
 "metadata": {
  "kernelspec": {
   "display_name": "svae",
   "language": "python",
   "name": "python3"
  },
  "language_info": {
   "codemirror_mode": {
    "name": "ipython",
    "version": 3
   },
   "file_extension": ".py",
   "mimetype": "text/x-python",
   "name": "python",
   "nbconvert_exporter": "python",
   "pygments_lexer": "ipython3",
   "version": "3.11.6"
  }
 },
 "nbformat": 4,
 "nbformat_minor": 2
}
